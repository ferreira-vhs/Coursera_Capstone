{
 "cells": [
  {
   "cell_type": "markdown",
   "metadata": {},
   "source": [
    "# Segmenting and Clustering Neighborhoods in Toronto"
   ]
  },
  {
   "cell_type": "markdown",
   "metadata": {},
   "source": [
    "## Creating a dataframe of neighborhoods in Toronto"
   ]
  },
  {
   "cell_type": "markdown",
   "metadata": {},
   "source": [
    "Import the necessary libraries for this part"
   ]
  },
  {
   "cell_type": "code",
   "execution_count": 1,
   "metadata": {},
   "outputs": [],
   "source": [
    "import numpy as np\n",
    "import pandas as pd\n",
    "from bs4 import BeautifulSoup\n",
    "from requests import get"
   ]
  },
  {
   "cell_type": "markdown",
   "metadata": {},
   "source": [
    "Get the table in the URL page to a pandas dataframe"
   ]
  },
  {
   "cell_type": "code",
   "execution_count": 2,
   "metadata": {},
   "outputs": [
    {
     "data": {
      "text/html": [
       "<div>\n",
       "<style scoped>\n",
       "    .dataframe tbody tr th:only-of-type {\n",
       "        vertical-align: middle;\n",
       "    }\n",
       "\n",
       "    .dataframe tbody tr th {\n",
       "        vertical-align: top;\n",
       "    }\n",
       "\n",
       "    .dataframe thead th {\n",
       "        text-align: right;\n",
       "    }\n",
       "</style>\n",
       "<table border=\"1\" class=\"dataframe\">\n",
       "  <thead>\n",
       "    <tr style=\"text-align: right;\">\n",
       "      <th></th>\n",
       "      <th>Postal code</th>\n",
       "      <th>Borough</th>\n",
       "      <th>Neighborhood</th>\n",
       "    </tr>\n",
       "  </thead>\n",
       "  <tbody>\n",
       "    <tr>\n",
       "      <th>0</th>\n",
       "      <td>M1A</td>\n",
       "      <td>Not assigned</td>\n",
       "      <td>NaN</td>\n",
       "    </tr>\n",
       "    <tr>\n",
       "      <th>1</th>\n",
       "      <td>M2A</td>\n",
       "      <td>Not assigned</td>\n",
       "      <td>NaN</td>\n",
       "    </tr>\n",
       "    <tr>\n",
       "      <th>2</th>\n",
       "      <td>M3A</td>\n",
       "      <td>North York</td>\n",
       "      <td>Parkwoods</td>\n",
       "    </tr>\n",
       "    <tr>\n",
       "      <th>3</th>\n",
       "      <td>M4A</td>\n",
       "      <td>North York</td>\n",
       "      <td>Victoria Village</td>\n",
       "    </tr>\n",
       "    <tr>\n",
       "      <th>4</th>\n",
       "      <td>M5A</td>\n",
       "      <td>Downtown Toronto</td>\n",
       "      <td>Regent Park / Harbourfront</td>\n",
       "    </tr>\n",
       "  </tbody>\n",
       "</table>\n",
       "</div>"
      ],
      "text/plain": [
       "  Postal code           Borough                Neighborhood\n",
       "0         M1A      Not assigned                         NaN\n",
       "1         M2A      Not assigned                         NaN\n",
       "2         M3A        North York                   Parkwoods\n",
       "3         M4A        North York            Victoria Village\n",
       "4         M5A  Downtown Toronto  Regent Park / Harbourfront"
      ]
     },
     "execution_count": 2,
     "metadata": {},
     "output_type": "execute_result"
    }
   ],
   "source": [
    "url = 'https://en.wikipedia.org/wiki/List_of_postal_codes_of_Canada:_M' # Define the URL to get the data from\n",
    "postalHTML = get(url) # Get the data\n",
    "postalSoup = BeautifulSoup(postalHTML.text, 'html.parser') # Get the soup\n",
    "postalTable = postalSoup.find('table') # Find the table inside the soup\n",
    "postal_df_orig = pd.read_html(str(postalTable),header=0)[0] # Convert to a pandas dataframe\n",
    "postal_df_orig.head()"
   ]
  },
  {
   "cell_type": "markdown",
   "metadata": {},
   "source": [
    "Cleanup the dataframe"
   ]
  },
  {
   "cell_type": "code",
   "execution_count": 3,
   "metadata": {
    "scrolled": true
   },
   "outputs": [
    {
     "data": {
      "text/html": [
       "<div>\n",
       "<style scoped>\n",
       "    .dataframe tbody tr th:only-of-type {\n",
       "        vertical-align: middle;\n",
       "    }\n",
       "\n",
       "    .dataframe tbody tr th {\n",
       "        vertical-align: top;\n",
       "    }\n",
       "\n",
       "    .dataframe thead th {\n",
       "        text-align: right;\n",
       "    }\n",
       "</style>\n",
       "<table border=\"1\" class=\"dataframe\">\n",
       "  <thead>\n",
       "    <tr style=\"text-align: right;\">\n",
       "      <th></th>\n",
       "      <th>Postal code</th>\n",
       "      <th>Borough</th>\n",
       "      <th>Neighborhood</th>\n",
       "    </tr>\n",
       "  </thead>\n",
       "  <tbody>\n",
       "    <tr>\n",
       "      <th>0</th>\n",
       "      <td>M1B</td>\n",
       "      <td>Scarborough</td>\n",
       "      <td>Malvern, Rouge</td>\n",
       "    </tr>\n",
       "    <tr>\n",
       "      <th>1</th>\n",
       "      <td>M1C</td>\n",
       "      <td>Scarborough</td>\n",
       "      <td>Rouge Hill, Port Union, Highland Creek</td>\n",
       "    </tr>\n",
       "    <tr>\n",
       "      <th>2</th>\n",
       "      <td>M1E</td>\n",
       "      <td>Scarborough</td>\n",
       "      <td>Guildwood, Morningside, West Hill</td>\n",
       "    </tr>\n",
       "    <tr>\n",
       "      <th>3</th>\n",
       "      <td>M1G</td>\n",
       "      <td>Scarborough</td>\n",
       "      <td>Woburn</td>\n",
       "    </tr>\n",
       "    <tr>\n",
       "      <th>4</th>\n",
       "      <td>M1H</td>\n",
       "      <td>Scarborough</td>\n",
       "      <td>Cedarbrae</td>\n",
       "    </tr>\n",
       "  </tbody>\n",
       "</table>\n",
       "</div>"
      ],
      "text/plain": [
       "  Postal code      Borough                            Neighborhood\n",
       "0         M1B  Scarborough                          Malvern, Rouge\n",
       "1         M1C  Scarborough  Rouge Hill, Port Union, Highland Creek\n",
       "2         M1E  Scarborough       Guildwood, Morningside, West Hill\n",
       "3         M1G  Scarborough                                  Woburn\n",
       "4         M1H  Scarborough                               Cedarbrae"
      ]
     },
     "execution_count": 3,
     "metadata": {},
     "output_type": "execute_result"
    }
   ],
   "source": [
    "postal_df = postal_df_orig[postal_df_orig['Borough'] != 'Not assigned'].reset_index() # dropping out all the postal codes with boroughs not assigned\n",
    "postal_df.drop('index',axis=1,inplace=True)\n",
    "postal_df.replace(['\\W* /'], ',', regex=True, inplace=True) # Replacing the / for , in the Boroughs with multiple Neighborhoods\n",
    "postal_df.loc[postal_df['Neighborhood'] == 'Not assigned', 'Neighborhood'] = postal_df.loc[postal_df['Neighborhood'] == 'Not assigned', 'Borough'] # assigning the Borough name to the Neighborhood if the Neighborhood name is 'Not assigned'\n",
    "postal_df.sort_values(by='Postal code',inplace=True)\n",
    "postal_df.reset_index(inplace=True)\n",
    "postal_df.drop('index',axis=1,inplace=True)\n",
    "postal_df.head()"
   ]
  },
  {
   "cell_type": "markdown",
   "metadata": {},
   "source": [
    "Print the shape of the cleaned dataframe"
   ]
  },
  {
   "cell_type": "code",
   "execution_count": 4,
   "metadata": {},
   "outputs": [
    {
     "name": "stdout",
     "output_type": "stream",
     "text": [
      "(103, 3)\n"
     ]
    }
   ],
   "source": [
    "print(postal_df.shape)"
   ]
  },
  {
   "cell_type": "markdown",
   "metadata": {},
   "source": [
    "End of this part"
   ]
  },
  {
   "cell_type": "markdown",
   "metadata": {},
   "source": [
    "***\n",
    "## Getting the latitude and longitude of each neighborhood"
   ]
  },
  {
   "cell_type": "markdown",
   "metadata": {},
   "source": [
    "Import additional necessary libraries for this part"
   ]
  },
  {
   "cell_type": "code",
   "execution_count": 5,
   "metadata": {},
   "outputs": [],
   "source": [
    "import pgeocode # the suggested geocoder requires an API key, so I'm using the pgeocode\n",
    "import urllib.request"
   ]
  },
  {
   "cell_type": "markdown",
   "metadata": {},
   "source": [
    "Obtain the latitude and longitude values for each postal code"
   ]
  },
  {
   "cell_type": "code",
   "execution_count": 6,
   "metadata": {
    "scrolled": true
   },
   "outputs": [
    {
     "name": "stdout",
     "output_type": "stream",
     "text": [
      "Obtaining latitude and longitude for the postal codes:\n",
      "M1B ... done!\n",
      "M1C ... done!\n",
      "M1E ... done!\n",
      "M1G ... done!\n",
      "M1H ... done!\n",
      "M1J ... done!\n",
      "M1K ... done!\n",
      "M1L ... done!\n",
      "M1M ... done!\n",
      "M1N ... done!\n",
      "M1P ... done!\n",
      "M1R ... done!\n",
      "M1S ... done!\n",
      "M1T ... done!\n",
      "M1V ... done!\n",
      "M1W ... done!\n",
      "M1X ... done!\n",
      "M2H ... done!\n",
      "M2J ... done!\n",
      "M2K ... done!\n",
      "M2L ... done!\n",
      "M2M ... done!\n",
      "M2N ... done!\n",
      "M2P ... done!\n",
      "M2R ... done!\n",
      "M3A ... done!\n",
      "M3B ... done!\n",
      "M3C ... done!\n",
      "M3H ... done!\n",
      "M3J ... done!\n",
      "M3K ... done!\n",
      "M3L ... done!\n",
      "M3M ... done!\n",
      "M3N ... done!\n",
      "M4A ... done!\n",
      "M4B ... done!\n",
      "M4C ... done!\n",
      "M4E ... done!\n",
      "M4G ... done!\n",
      "M4H ... done!\n",
      "M4J ... done!\n",
      "M4K ... done!\n",
      "M4L ... done!\n",
      "M4M ... done!\n",
      "M4N ... done!\n",
      "M4P ... done!\n",
      "M4R ... done!\n",
      "M4S ... done!\n",
      "M4T ... done!\n",
      "M4V ... done!\n",
      "M4W ... done!\n",
      "M4X ... done!\n",
      "M4Y ... done!\n",
      "M5A ... done!\n",
      "M5B ... done!\n",
      "M5C ... done!\n",
      "M5E ... done!\n",
      "M5G ... done!\n",
      "M5H ... done!\n",
      "M5J ... done!\n",
      "M5K ... done!\n",
      "M5L ... done!\n",
      "M5M ... done!\n",
      "M5N ... done!\n",
      "M5P ... done!\n",
      "M5R ... done!\n",
      "M5S ... done!\n",
      "M5T ... done!\n",
      "M5V ... done!\n",
      "M5W ... done!\n",
      "M5X ... done!\n",
      "M6A ... done!\n",
      "M6B ... done!\n",
      "M6C ... done!\n",
      "M6E ... done!\n",
      "M6G ... done!\n",
      "M6H ... done!\n",
      "M6J ... done!\n",
      "M6K ... done!\n",
      "M6L ... done!\n",
      "M6M ... done!\n",
      "M6N ... done!\n",
      "M6P ... done!\n",
      "M6R ... done!\n",
      "M6S ... done!\n",
      "M7A ... done!\n",
      "M7R ... done!\n",
      "M7Y ... done!\n",
      "M8V ... done!\n",
      "M8W ... done!\n",
      "M8X ... done!\n",
      "M8Y ... done!\n",
      "M8Z ... done!\n",
      "M9A ... done!\n",
      "M9B ... done!\n",
      "M9C ... done!\n",
      "M9L ... done!\n",
      "M9M ... done!\n",
      "M9N ... done!\n",
      "M9P ... done!\n",
      "M9R ... done!\n",
      "M9V ... done!\n",
      "M9W ... done!\n"
     ]
    }
   ],
   "source": [
    "print('Obtaining latitude and longitude for the postal codes:')\n",
    "latitudes = []\n",
    "longitudes = []\n",
    "postalCodes = []\n",
    "\n",
    "nomi = pgeocode.Nominatim('ca')\n",
    "\n",
    "for postalCode in postal_df['Postal code']:\n",
    "    print(postalCode, end =\" \")\n",
    "    \n",
    "    geoData = nomi.query_postal_code(postalCode)\n",
    "    \n",
    "    postalCodes.append(postalCode)\n",
    "    latitudes.append(geoData.latitude)\n",
    "    longitudes.append(geoData.longitude)\n",
    "    \n",
    "    print('... done!')"
   ]
  },
  {
   "cell_type": "markdown",
   "metadata": {},
   "source": [
    "Convert to a pandas dataframe"
   ]
  },
  {
   "cell_type": "code",
   "execution_count": 7,
   "metadata": {},
   "outputs": [
    {
     "data": {
      "text/html": [
       "<div>\n",
       "<style scoped>\n",
       "    .dataframe tbody tr th:only-of-type {\n",
       "        vertical-align: middle;\n",
       "    }\n",
       "\n",
       "    .dataframe tbody tr th {\n",
       "        vertical-align: top;\n",
       "    }\n",
       "\n",
       "    .dataframe thead th {\n",
       "        text-align: right;\n",
       "    }\n",
       "</style>\n",
       "<table border=\"1\" class=\"dataframe\">\n",
       "  <thead>\n",
       "    <tr style=\"text-align: right;\">\n",
       "      <th></th>\n",
       "      <th>Latitude</th>\n",
       "      <th>Longitude</th>\n",
       "    </tr>\n",
       "  </thead>\n",
       "  <tbody>\n",
       "    <tr>\n",
       "      <th>M1B</th>\n",
       "      <td>43.8113</td>\n",
       "      <td>-79.1930</td>\n",
       "    </tr>\n",
       "    <tr>\n",
       "      <th>M1C</th>\n",
       "      <td>43.7878</td>\n",
       "      <td>-79.1564</td>\n",
       "    </tr>\n",
       "    <tr>\n",
       "      <th>M1E</th>\n",
       "      <td>43.7678</td>\n",
       "      <td>-79.1866</td>\n",
       "    </tr>\n",
       "    <tr>\n",
       "      <th>M1G</th>\n",
       "      <td>43.7712</td>\n",
       "      <td>-79.2144</td>\n",
       "    </tr>\n",
       "    <tr>\n",
       "      <th>M1H</th>\n",
       "      <td>43.7686</td>\n",
       "      <td>-79.2389</td>\n",
       "    </tr>\n",
       "  </tbody>\n",
       "</table>\n",
       "</div>"
      ],
      "text/plain": [
       "     Latitude  Longitude\n",
       "M1B   43.8113   -79.1930\n",
       "M1C   43.7878   -79.1564\n",
       "M1E   43.7678   -79.1866\n",
       "M1G   43.7712   -79.2144\n",
       "M1H   43.7686   -79.2389"
      ]
     },
     "execution_count": 7,
     "metadata": {},
     "output_type": "execute_result"
    }
   ],
   "source": [
    "lat_long_df = pd.DataFrame({'Latitude': latitudes, 'Longitude': longitudes}, postalCodes)\n",
    "lat_long_df.sort_index(inplace=True)\n",
    "lat_long_df.head()"
   ]
  },
  {
   "cell_type": "markdown",
   "metadata": {},
   "source": [
    "Download the .csv with the latitudes and longitudes"
   ]
  },
  {
   "cell_type": "code",
   "execution_count": 8,
   "metadata": {},
   "outputs": [
    {
     "data": {
      "text/plain": [
       "('Geospatial_Coordinates.csv', <http.client.HTTPMessage at 0xaad9988>)"
      ]
     },
     "execution_count": 8,
     "metadata": {},
     "output_type": "execute_result"
    }
   ],
   "source": [
    "url = 'http://cocl.us/Geospatial_data'\n",
    "fileName = 'Geospatial_Coordinates.csv'\n",
    "urllib.request.urlretrieve(url, fileName)"
   ]
  },
  {
   "cell_type": "markdown",
   "metadata": {},
   "source": [
    "Converting the data from the .csv into a pandas dataframe"
   ]
  },
  {
   "cell_type": "code",
   "execution_count": 9,
   "metadata": {
    "scrolled": false
   },
   "outputs": [
    {
     "data": {
      "text/html": [
       "<div>\n",
       "<style scoped>\n",
       "    .dataframe tbody tr th:only-of-type {\n",
       "        vertical-align: middle;\n",
       "    }\n",
       "\n",
       "    .dataframe tbody tr th {\n",
       "        vertical-align: top;\n",
       "    }\n",
       "\n",
       "    .dataframe thead th {\n",
       "        text-align: right;\n",
       "    }\n",
       "</style>\n",
       "<table border=\"1\" class=\"dataframe\">\n",
       "  <thead>\n",
       "    <tr style=\"text-align: right;\">\n",
       "      <th></th>\n",
       "      <th>Latitude</th>\n",
       "      <th>Longitude</th>\n",
       "    </tr>\n",
       "    <tr>\n",
       "      <th>Postal Code</th>\n",
       "      <th></th>\n",
       "      <th></th>\n",
       "    </tr>\n",
       "  </thead>\n",
       "  <tbody>\n",
       "    <tr>\n",
       "      <th>M1B</th>\n",
       "      <td>43.806686</td>\n",
       "      <td>-79.194353</td>\n",
       "    </tr>\n",
       "    <tr>\n",
       "      <th>M1C</th>\n",
       "      <td>43.784535</td>\n",
       "      <td>-79.160497</td>\n",
       "    </tr>\n",
       "    <tr>\n",
       "      <th>M1E</th>\n",
       "      <td>43.763573</td>\n",
       "      <td>-79.188711</td>\n",
       "    </tr>\n",
       "    <tr>\n",
       "      <th>M1G</th>\n",
       "      <td>43.770992</td>\n",
       "      <td>-79.216917</td>\n",
       "    </tr>\n",
       "    <tr>\n",
       "      <th>M1H</th>\n",
       "      <td>43.773136</td>\n",
       "      <td>-79.239476</td>\n",
       "    </tr>\n",
       "  </tbody>\n",
       "</table>\n",
       "</div>"
      ],
      "text/plain": [
       "              Latitude  Longitude\n",
       "Postal Code                      \n",
       "M1B          43.806686 -79.194353\n",
       "M1C          43.784535 -79.160497\n",
       "M1E          43.763573 -79.188711\n",
       "M1G          43.770992 -79.216917\n",
       "M1H          43.773136 -79.239476"
      ]
     },
     "execution_count": 9,
     "metadata": {},
     "output_type": "execute_result"
    }
   ],
   "source": [
    "lat_long_csv_df = pd.read_csv(fileName)\n",
    "lat_long_csv_df.set_index('Postal Code', inplace=True)\n",
    "lat_long_csv_df.head()"
   ]
  },
  {
   "cell_type": "code",
   "execution_count": 10,
   "metadata": {},
   "outputs": [
    {
     "name": "stdout",
     "output_type": "stream",
     "text": [
      "The dataframe created using pgeocode has 1 NaN values, while the downloaded .csv has 0 NaN values.\n",
      "The dataframe created using pgeocode has average differences in latitude and longitude of 0.0034 and 0.0035, respectively\n"
     ]
    }
   ],
   "source": [
    "# Comparative statistics\n",
    "dif = pd.DataFrame({'Dif in Latitude': [], 'Dif in Longitude': []})\n",
    "dif['Dif in Latitude'] = lat_long_df.Latitude - lat_long_csv_df.Latitude\n",
    "dif['Dif in Longitude'] = lat_long_df.Longitude - lat_long_csv_df.Longitude\n",
    "print('The dataframe created using pgeocode has %d NaN values, while the downloaded .csv has %d NaN values.' % (max(lat_long_df.isna().sum()[0],lat_long_df.isna().sum()[1]),max(lat_long_csv_df.isna().sum()[0],lat_long_csv_df.isna().sum()[1])))\n",
    "print('The dataframe created using pgeocode has average differences in latitude and longitude of %.4f and %.4f, respectively' % (dif.abs().mean()[0],dif.abs().mean()[1]))"
   ]
  },
  {
   "cell_type": "markdown",
   "metadata": {},
   "source": [
    "Due to the NaN value in the dataframe obtained through the pgeocode library, I opted to use the provided .csv file"
   ]
  },
  {
   "cell_type": "markdown",
   "metadata": {},
   "source": [
    "Since the postal_df and lat_long_csv_df are both ordered the same way, drop the index to be able to merge."
   ]
  },
  {
   "cell_type": "code",
   "execution_count": 11,
   "metadata": {
    "scrolled": true
   },
   "outputs": [
    {
     "data": {
      "text/html": [
       "<div>\n",
       "<style scoped>\n",
       "    .dataframe tbody tr th:only-of-type {\n",
       "        vertical-align: middle;\n",
       "    }\n",
       "\n",
       "    .dataframe tbody tr th {\n",
       "        vertical-align: top;\n",
       "    }\n",
       "\n",
       "    .dataframe thead th {\n",
       "        text-align: right;\n",
       "    }\n",
       "</style>\n",
       "<table border=\"1\" class=\"dataframe\">\n",
       "  <thead>\n",
       "    <tr style=\"text-align: right;\">\n",
       "      <th></th>\n",
       "      <th>Latitude</th>\n",
       "      <th>Longitude</th>\n",
       "    </tr>\n",
       "  </thead>\n",
       "  <tbody>\n",
       "    <tr>\n",
       "      <th>0</th>\n",
       "      <td>43.806686</td>\n",
       "      <td>-79.194353</td>\n",
       "    </tr>\n",
       "    <tr>\n",
       "      <th>1</th>\n",
       "      <td>43.784535</td>\n",
       "      <td>-79.160497</td>\n",
       "    </tr>\n",
       "    <tr>\n",
       "      <th>2</th>\n",
       "      <td>43.763573</td>\n",
       "      <td>-79.188711</td>\n",
       "    </tr>\n",
       "    <tr>\n",
       "      <th>3</th>\n",
       "      <td>43.770992</td>\n",
       "      <td>-79.216917</td>\n",
       "    </tr>\n",
       "    <tr>\n",
       "      <th>4</th>\n",
       "      <td>43.773136</td>\n",
       "      <td>-79.239476</td>\n",
       "    </tr>\n",
       "  </tbody>\n",
       "</table>\n",
       "</div>"
      ],
      "text/plain": [
       "    Latitude  Longitude\n",
       "0  43.806686 -79.194353\n",
       "1  43.784535 -79.160497\n",
       "2  43.763573 -79.188711\n",
       "3  43.770992 -79.216917\n",
       "4  43.773136 -79.239476"
      ]
     },
     "execution_count": 11,
     "metadata": {},
     "output_type": "execute_result"
    }
   ],
   "source": [
    "lat_long_csv_df.reset_index(inplace=True)\n",
    "lat_long_csv_df.drop('Postal Code', axis=1, inplace=True)\n",
    "lat_long_csv_df.head()"
   ]
  },
  {
   "cell_type": "markdown",
   "metadata": {},
   "source": [
    "Merging the postal codes with the latitudes and longitudes"
   ]
  },
  {
   "cell_type": "code",
   "execution_count": 12,
   "metadata": {
    "scrolled": false
   },
   "outputs": [
    {
     "data": {
      "text/html": [
       "<div>\n",
       "<style scoped>\n",
       "    .dataframe tbody tr th:only-of-type {\n",
       "        vertical-align: middle;\n",
       "    }\n",
       "\n",
       "    .dataframe tbody tr th {\n",
       "        vertical-align: top;\n",
       "    }\n",
       "\n",
       "    .dataframe thead th {\n",
       "        text-align: right;\n",
       "    }\n",
       "</style>\n",
       "<table border=\"1\" class=\"dataframe\">\n",
       "  <thead>\n",
       "    <tr style=\"text-align: right;\">\n",
       "      <th></th>\n",
       "      <th>Postal code</th>\n",
       "      <th>Borough</th>\n",
       "      <th>Neighborhood</th>\n",
       "      <th>Latitude</th>\n",
       "      <th>Longitude</th>\n",
       "    </tr>\n",
       "  </thead>\n",
       "  <tbody>\n",
       "    <tr>\n",
       "      <th>0</th>\n",
       "      <td>M1B</td>\n",
       "      <td>Scarborough</td>\n",
       "      <td>Malvern, Rouge</td>\n",
       "      <td>43.806686</td>\n",
       "      <td>-79.194353</td>\n",
       "    </tr>\n",
       "    <tr>\n",
       "      <th>1</th>\n",
       "      <td>M1C</td>\n",
       "      <td>Scarborough</td>\n",
       "      <td>Rouge Hill, Port Union, Highland Creek</td>\n",
       "      <td>43.784535</td>\n",
       "      <td>-79.160497</td>\n",
       "    </tr>\n",
       "    <tr>\n",
       "      <th>2</th>\n",
       "      <td>M1E</td>\n",
       "      <td>Scarborough</td>\n",
       "      <td>Guildwood, Morningside, West Hill</td>\n",
       "      <td>43.763573</td>\n",
       "      <td>-79.188711</td>\n",
       "    </tr>\n",
       "    <tr>\n",
       "      <th>3</th>\n",
       "      <td>M1G</td>\n",
       "      <td>Scarborough</td>\n",
       "      <td>Woburn</td>\n",
       "      <td>43.770992</td>\n",
       "      <td>-79.216917</td>\n",
       "    </tr>\n",
       "    <tr>\n",
       "      <th>4</th>\n",
       "      <td>M1H</td>\n",
       "      <td>Scarborough</td>\n",
       "      <td>Cedarbrae</td>\n",
       "      <td>43.773136</td>\n",
       "      <td>-79.239476</td>\n",
       "    </tr>\n",
       "  </tbody>\n",
       "</table>\n",
       "</div>"
      ],
      "text/plain": [
       "  Postal code      Borough                            Neighborhood   Latitude  \\\n",
       "0         M1B  Scarborough                          Malvern, Rouge  43.806686   \n",
       "1         M1C  Scarborough  Rouge Hill, Port Union, Highland Creek  43.784535   \n",
       "2         M1E  Scarborough       Guildwood, Morningside, West Hill  43.763573   \n",
       "3         M1G  Scarborough                                  Woburn  43.770992   \n",
       "4         M1H  Scarborough                               Cedarbrae  43.773136   \n",
       "\n",
       "   Longitude  \n",
       "0 -79.194353  \n",
       "1 -79.160497  \n",
       "2 -79.188711  \n",
       "3 -79.216917  \n",
       "4 -79.239476  "
      ]
     },
     "execution_count": 12,
     "metadata": {},
     "output_type": "execute_result"
    }
   ],
   "source": [
    "postalLatLng_df = pd.concat([postal_df, lat_long_csv_df], axis=1)\n",
    "postalLatLng_df.head()"
   ]
  },
  {
   "cell_type": "markdown",
   "metadata": {},
   "source": [
    "End of this part"
   ]
  },
  {
   "cell_type": "markdown",
   "metadata": {},
   "source": [
    "***\n",
    "## Exploring and clustering the neighborhoods in Toronto"
   ]
  },
  {
   "cell_type": "markdown",
   "metadata": {},
   "source": [
    "Import additional necessary libraries for this part"
   ]
  },
  {
   "cell_type": "code",
   "execution_count": 13,
   "metadata": {},
   "outputs": [],
   "source": [
    "import json\n",
    "import requests\n",
    "\n",
    "# Matplotlib and associated plotting modules\n",
    "import matplotlib.cm as cm\n",
    "import matplotlib.colors as colors\n",
    "\n",
    "# import k-means from clustering stage\n",
    "from sklearn.cluster import KMeans\n",
    "\n",
    "import folium # map rendering library"
   ]
  },
  {
   "cell_type": "markdown",
   "metadata": {},
   "source": [
    "Visualization of the map of Toronto with all the neighborhoods"
   ]
  },
  {
   "cell_type": "code",
   "execution_count": 14,
   "metadata": {
    "scrolled": false
   },
   "outputs": [
    {
     "data": {
      "text/html": [
       "<div style=\"width:100%;\"><div style=\"position:relative;width:100%;height:0;padding-bottom:60%;\"><iframe src=\"about:blank\" style=\"position:absolute;width:100%;height:100%;left:0;top:0;border:none !important;\" data-html=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 onload=\"this.contentDocument.open();this.contentDocument.write(atob(this.getAttribute('data-html')));this.contentDocument.close();\" allowfullscreen webkitallowfullscreen mozallowfullscreen></iframe></div></div>"
      ],
      "text/plain": [
       "<folium.folium.Map at 0x12ab6508>"
      ]
     },
     "execution_count": 14,
     "metadata": {},
     "output_type": "execute_result"
    }
   ],
   "source": [
    "map_TO = folium.Map(\n",
    "    location=[\n",
    "        postalLatLng_df[postalLatLng_df['Neighborhood'] == 'Leaside'].Latitude,\n",
    "        postalLatLng_df[postalLatLng_df['Neighborhood'] == 'Leaside'].Longitude\n",
    "    ], \n",
    "    zoom_start=11)\n",
    "\n",
    "# add markers to map\n",
    "for lat, lng, label in zip(postalLatLng_df['Latitude'], postalLatLng_df['Longitude'], postalLatLng_df['Neighborhood']):\n",
    "    label = folium.Popup(label, parse_html=True)\n",
    "    folium.CircleMarker(\n",
    "        [lat, lng],\n",
    "        radius=5,\n",
    "        popup=label,\n",
    "        color='blue',\n",
    "        fill=True,\n",
    "        fill_color='#3186cc',\n",
    "        fill_opacity=0.7,\n",
    "        parse_html=False).add_to(map_TO)\n",
    "\n",
    "map_TO"
   ]
  },
  {
   "cell_type": "markdown",
   "metadata": {},
   "source": [
    "Foursquare credentials"
   ]
  },
  {
   "cell_type": "code",
   "execution_count": 15,
   "metadata": {},
   "outputs": [
    {
     "name": "stdout",
     "output_type": "stream",
     "text": [
      "Credentials loaded successfully!\n"
     ]
    }
   ],
   "source": [
    "try:\n",
    "    with open('FS_cred.txt', 'r') as file:\n",
    "        creds = file.readlines()\n",
    "    \n",
    "    CLIENT_ID = creds[0] # your Foursquare ID\n",
    "    CLIENT_SECRET = creds[1] # your Foursquare Secret\n",
    "    VERSION = '20180605' # Foursquare API version\n",
    "    \n",
    "    print('Credentials loaded successfully!')\n",
    "\n",
    "except:\n",
    "    print('Unable to access file containing the credentials.')"
   ]
  },
  {
   "cell_type": "markdown",
   "metadata": {},
   "source": [
    "Define a function to get the nearby venues of all the neighborhoods"
   ]
  },
  {
   "cell_type": "code",
   "execution_count": 16,
   "metadata": {},
   "outputs": [],
   "source": [
    "def getNearbyVenues(names, latitudes, longitudes, radius=500):\n",
    "    \n",
    "    venues_list=[]\n",
    "    for name, lat, lng in zip(names, latitudes, longitudes):\n",
    "        print(name)\n",
    "            \n",
    "        # create the API request URL\n",
    "        url = 'https://api.foursquare.com/v2/venues/explore?&client_id={}&client_secret={}&v={}&ll={},{}&radius={}&limit={}'.format(\n",
    "            CLIENT_ID, \n",
    "            CLIENT_SECRET, \n",
    "            VERSION, \n",
    "            lat, \n",
    "            lng, \n",
    "            radius, \n",
    "            LIMIT)\n",
    "            \n",
    "        # make the GET request\n",
    "        results = requests.get(url).json()[\"response\"]['groups'][0]['items']\n",
    "        \n",
    "        # return only relevant information for each nearby venue\n",
    "        venues_list.append([(\n",
    "            name, \n",
    "            lat, \n",
    "            lng, \n",
    "            v['venue']['name'], \n",
    "            v['venue']['location']['lat'], \n",
    "            v['venue']['location']['lng'],  \n",
    "            v['venue']['categories'][0]['name']) for v in results])\n",
    "\n",
    "    nearby_venues = pd.DataFrame([item for venue_list in venues_list for item in venue_list])\n",
    "    nearby_venues.columns = ['Neighborhood', \n",
    "                  'Neighborhood Latitude', \n",
    "                  'Neighborhood Longitude', \n",
    "                  'Venue', \n",
    "                  'Venue Latitude', \n",
    "                  'Venue Longitude', \n",
    "                  'Venue Category']\n",
    "    \n",
    "    return(nearby_venues)"
   ]
  },
  {
   "cell_type": "markdown",
   "metadata": {},
   "source": [
    "Get the venues (limited to 100 per neighborhood)"
   ]
  },
  {
   "cell_type": "code",
   "execution_count": null,
   "metadata": {
    "scrolled": true
   },
   "outputs": [
    {
     "name": "stdout",
     "output_type": "stream",
     "text": [
      "Malvern, Rouge\n",
      "Rouge Hill, Port Union, Highland Creek\n",
      "Guildwood, Morningside, West Hill\n",
      "Woburn\n",
      "Cedarbrae\n",
      "Scarborough Village\n",
      "Kennedy Park, Ionview, East Birchmount Park\n",
      "Golden Mile, Clairlea, Oakridge\n",
      "Cliffside, Cliffcrest, Scarborough Village West\n",
      "Birch Cliff, Cliffside West\n",
      "Dorset Park, Wexford Heights, Scarborough Town Centre\n",
      "Wexford, Maryvale\n",
      "Agincourt\n",
      "Clarks Corners, Tam O'Shanter, Sullivan\n",
      "Milliken, Agincourt North, Steeles East, L'Amoreaux East\n",
      "Steeles West, L'Amoreaux West\n",
      "Upper Rouge\n",
      "Hillcrest Village\n",
      "Fairview, Henry Farm, Oriole\n",
      "Bayview Village\n",
      "York Mills, Silver Hills\n",
      "Willowdale, Newtonbrook\n",
      "Willowdale\n",
      "York Mills West\n",
      "Willowdale\n",
      "Parkwoods\n",
      "Don Mills\n",
      "Don Mills\n",
      "Bathurst Manor, Wilson Heights, Downsview North\n",
      "Northwood Park, York University\n",
      "Downsview\n",
      "Downsview\n",
      "Downsview\n",
      "Downsview\n",
      "Victoria Village\n",
      "Parkview Hill, Woodbine Gardens\n",
      "Woodbine Heights\n",
      "The Beaches\n",
      "Leaside\n",
      "Thorncliffe Park\n",
      "East Toronto\n",
      "The Danforth West, Riverdale\n",
      "India Bazaar, The Beaches West\n",
      "Studio District\n",
      "Lawrence Park\n",
      "Davisville North\n",
      "North Toronto West\n",
      "Davisville\n",
      "Moore Park, Summerhill East\n",
      "Summerhill West, Rathnelly, South Hill, Forest Hill SE, Deer Park\n",
      "Rosedale\n",
      "St. James Town, Cabbagetown\n",
      "Church and Wellesley\n",
      "Regent Park, Harbourfront\n",
      "Garden District, Ryerson\n",
      "St. James Town\n",
      "Berczy Park\n",
      "Central Bay Street\n",
      "Richmond, Adelaide, King\n",
      "Harbourfront East, Union Station, Toronto Islands\n",
      "Toronto Dominion Centre, Design Exchange\n",
      "Commerce Court, Victoria Hotel\n",
      "Bedford Park, Lawrence Manor East\n",
      "Roselawn\n",
      "Forest Hill North & West\n",
      "The Annex, North Midtown, Yorkville\n",
      "University of Toronto, Harbord\n",
      "Kensington Market, Chinatown, Grange Park\n",
      "CN Tower, King and Spadina, Railway Lands, Harbourfront West, Bathurst Quay, South Niagara, Island airport\n"
     ]
    }
   ],
   "source": [
    "LIMIT = 100\n",
    "\n",
    "TO_venues = getNearbyVenues(names=postalLatLng_df['Neighborhood'],\n",
    "                            latitudes=postalLatLng_df['Latitude'],\n",
    "                            longitudes=postalLatLng_df['Longitude']\n",
    "                            )"
   ]
  },
  {
   "cell_type": "code",
   "execution_count": null,
   "metadata": {
    "scrolled": false
   },
   "outputs": [],
   "source": [
    "print('Found a total of %d venues in %d different categories!' % (TO_venues.shape[0], len(TO_venues['Venue Category'].unique())))"
   ]
  },
  {
   "cell_type": "markdown",
   "metadata": {},
   "source": [
    "Preparing the dataframe for the analysis"
   ]
  },
  {
   "cell_type": "markdown",
   "metadata": {},
   "source": [
    "One-hot encoding"
   ]
  },
  {
   "cell_type": "code",
   "execution_count": null,
   "metadata": {
    "scrolled": true
   },
   "outputs": [],
   "source": [
    "TO_onehot = pd.get_dummies(TO_venues[['Venue Category']], prefix=\"\", prefix_sep=\"\") # one hot encoding\n",
    "\n",
    "TO_onehot['Neighborhood'] = TO_venues['Neighborhood'] # add neighborhood column back to dataframe\n",
    "cols = list(TO_onehot) # get a list of columns\n",
    "cols.insert(0, cols.pop(cols.index('Neighborhood'))) # move the column to head of list using index, pop and insert\n",
    "TO_onehot = TO_onehot[ cols] # move the neighborhood to the first column\n",
    "\n",
    "TO_onehot.head()"
   ]
  },
  {
   "cell_type": "markdown",
   "metadata": {},
   "source": [
    "Average of the occurence of venues near each neighborhood"
   ]
  },
  {
   "cell_type": "code",
   "execution_count": null,
   "metadata": {
    "scrolled": false
   },
   "outputs": [],
   "source": [
    "TO_grouped = TO_onehot.groupby('Neighborhood').mean().reset_index()\n",
    "TO_grouped"
   ]
  },
  {
   "cell_type": "markdown",
   "metadata": {},
   "source": [
    "K-Clustering"
   ]
  },
  {
   "cell_type": "code",
   "execution_count": null,
   "metadata": {},
   "outputs": [],
   "source": [
    "kclusters = 5 # set number of clusters\n",
    "\n",
    "TO_grouped_clustering = TO_grouped.drop('Neighborhood', 1)\n",
    "\n",
    "kmeans = KMeans(n_clusters=kclusters, n_init=50).fit(TO_grouped_clustering) # run k-means clustering\n",
    "\n",
    "# check cluster labels generated for each row in the dataframe\n",
    "print('There are %d neighborhoods and %d labels:' % (TO_grouped.shape[0], kclusters))\n",
    "for label in list(set(kmeans.labels_)):\n",
    "    print('The label %d was applied to %.2f%% of the neighborhoods' % (label, 100*sum(kmeans.labels_ == label)/len(kmeans.labels_)))"
   ]
  },
  {
   "cell_type": "markdown",
   "metadata": {},
   "source": [
    "Ordering the most popular venues in each neighborhood to compare with the cluster choices"
   ]
  },
  {
   "cell_type": "code",
   "execution_count": null,
   "metadata": {},
   "outputs": [],
   "source": [
    "# Function to sort the venues in descending order\n",
    "def return_most_common_venues(row, num_top_venues):\n",
    "    row_categories = row.iloc[1:]\n",
    "    row_categories_sorted = row_categories.sort_values(ascending=False)\n",
    "    \n",
    "    return row_categories_sorted.index.values[0:num_top_venues]\n",
    "\n",
    "# Number of top venues to order\n",
    "num_top_venues = 10\n",
    "\n",
    "# create columns according to number of top venues\n",
    "columns = ['Neighborhood']\n",
    "indicators = ['st', 'nd', 'rd']\n",
    "for ind in np.arange(num_top_venues):\n",
    "    try:\n",
    "        columns.append('{}{} Most Common Venue'.format(ind+1, indicators[ind]))\n",
    "    except:\n",
    "        columns.append('{}th Most Common Venue'.format(ind+1))\n",
    "\n",
    "# create a new dataframe\n",
    "neighborhoods_venues_sorted = pd.DataFrame(columns=columns)\n",
    "neighborhoods_venues_sorted['Neighborhood'] = TO_grouped['Neighborhood']\n",
    "\n",
    "# add the top venues\n",
    "for ind in np.arange(TO_grouped.shape[0]):\n",
    "    neighborhoods_venues_sorted.iloc[ind, 1:] = return_most_common_venues(TO_grouped.iloc[ind, :], num_top_venues)\n",
    "\n",
    "# add clustering labels\n",
    "neighborhoods_venues_sorted.insert(0, 'Cluster Labels', kmeans.labels_)\n",
    "\n",
    "# create a dataframe with each neighborhood, latitude, longitude, cluster label, and most popular venues\n",
    "TO_merged = postalLatLng_df\n",
    "TO_merged = TO_merged.join(neighborhoods_venues_sorted.set_index('Neighborhood'), on='Neighborhood')\n",
    "TO_merged.dropna(inplace=True)\n",
    "TO_merged['Cluster Labels'] = TO_merged['Cluster Labels'].astype('int8')\n",
    "TO_merged.head()"
   ]
  },
  {
   "cell_type": "markdown",
   "metadata": {},
   "source": [
    "Visualize the cluster choices"
   ]
  },
  {
   "cell_type": "code",
   "execution_count": null,
   "metadata": {},
   "outputs": [],
   "source": [
    "# create map\n",
    "map_clusters = folium.Map(\n",
    "    location=[\n",
    "        postalLatLng_df[postalLatLng_df['Neighborhood'] == 'Leaside'].Latitude,\n",
    "        postalLatLng_df[postalLatLng_df['Neighborhood'] == 'Leaside'].Longitude\n",
    "    ], \n",
    "    zoom_start=11)\n",
    "\n",
    "# set color scheme for the clusters\n",
    "x = np.arange(kclusters)\n",
    "ys = [i + x + (i*x)**2 for i in range(kclusters)]\n",
    "colors_array = cm.rainbow(np.linspace(0, 1, len(ys)))\n",
    "rainbow = [colors.rgb2hex(i) for i in colors_array]\n",
    "\n",
    "# add markers to the map\n",
    "markers_colors = []\n",
    "for lat, lon, poi, cluster in zip(TO_merged['Latitude'], TO_merged['Longitude'], TO_merged['Neighborhood'], TO_merged['Cluster Labels']):\n",
    "    label = folium.Popup(str(poi) + ' Cluster ' + str(cluster), parse_html=True)\n",
    "    folium.CircleMarker(\n",
    "        [lat, lon],\n",
    "        radius=5,\n",
    "        popup=label,\n",
    "        color=rainbow[cluster-1],\n",
    "        fill=True,\n",
    "        fill_color=rainbow[cluster-1],\n",
    "        fill_opacity=0.7).add_to(map_clusters)\n",
    "       \n",
    "map_clusters"
   ]
  }
 ],
 "metadata": {
  "kernelspec": {
   "display_name": "Python 3",
   "language": "python",
   "name": "python3"
  },
  "language_info": {
   "codemirror_mode": {
    "name": "ipython",
    "version": 3
   },
   "file_extension": ".py",
   "mimetype": "text/x-python",
   "name": "python",
   "nbconvert_exporter": "python",
   "pygments_lexer": "ipython3",
   "version": "3.8.2"
  }
 },
 "nbformat": 4,
 "nbformat_minor": 4
}
